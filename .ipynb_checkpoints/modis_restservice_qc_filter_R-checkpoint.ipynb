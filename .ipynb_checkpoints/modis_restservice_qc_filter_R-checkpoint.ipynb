{
 "cells": [
  {
   "cell_type": "markdown",
   "metadata": {},
   "source": [
    "## Access the new REST-based MODIS web service and perform quality filtering using R\n",
    " \n",
    "*Author: ORNL DAAC*  \n",
    "*Date: May 4, 2018*  \n",
    "*Contact for the ORNL DAAC: uso@daac.ornl.gov*\n",
    "\n",
    "### Keywords: MODIS, web service, R, REST\n",
    "\n",
    "## Overview\n",
    "\n",
    "This notebook will explore using the R to access MODIS Land Products through the new (May 2018) REST-based web service hosted by the ORNL DAAC. For a full description and usage examples of the web service, please visit the ORNL DAAC's MODIS microsite:\n",
    "https://modis.ornl.gov/data/modis_webservice.html\n",
    "\n",
    "Using the MODIS Web Service users can:\n",
    "\n",
    "* Retrieve MODIS subsets through command line operations\n",
    "* Download and integrate subsets directly into client-side workflows\n",
    "* Download and visualize subsets with customized code \n",
    "* ... and much more.\n",
    "\n",
    "This tutorial will demonstrate how to do the following in R:\n",
    "\n",
    "* **dates** and **subset** request examples\n",
    "* build a time series of MOD11A2 land surface temperature from multiple web service subset requests\n",
    "* perform quality control filtering based on multiple MODIS qc criteria\n",
    "\n",
    "## Prerequisites: \n",
    "\n",
    "R\n",
    "Libraries: httr, readr, jsonlite, ggplot2, scales  \n",
    "*Note: Not all libraries required. readr enables conversation of text response into data.frame; jsonlite enables conversion of json response.*\n",
    "\n",
    "## Tutorial:"
   ]
  },
  {
   "cell_type": "code",
   "execution_count": 1,
   "metadata": {},
   "outputs": [
    {
     "name": "stderr",
     "output_type": "stream",
     "text": [
      "\n",
      "Attaching package: 'scales'\n",
      "\n",
      "The following object is masked from 'package:readr':\n",
      "\n",
      "    col_factor\n",
      "\n"
     ]
    }
   ],
   "source": [
    "# For interaction with the web service\n",
    "library(httr)\n",
    "library(readr)\n",
    "library(jsonlite)\n",
    "\n",
    "# For plotting\n",
    "library(ggplot2)\n",
    "library(scales)\n",
    "\n",
    "url <- \"https://modis.ornl.gov/rst/api/v1/\""
   ]
  },
  {
   "cell_type": "markdown",
   "metadata": {},
   "source": [
    "### GET Request: dates\n",
    "***/api/v1/{product}/dates***\n",
    "\n",
    "The MODIS Web Service has a ten tile limit per request to ensure responsivity of the service and to avoid time outs. The **dates** function returns a list of available dates for the specified coordinate and MODIS product.\n",
    "\n",
    "| Parameter          | Description                                                   |\n",
    "|:-------------------|:--------------------------------------------------------------|\n",
    "| **product**        | MODIS product code as listed by **products** function         |\n",
    "| **latitude**       | latitude                                                      |\n",
    "| **longitude**      | longitude                                                     |\n",
    "\n",
    "\n",
    "Create a list of dates for MOD11A2 for a coordinate in North Table Mountain Ecological Reserve in California (39.56499, -121.55527) using the **dates** function:"
   ]
  },
  {
   "cell_type": "code",
   "execution_count": 2,
   "metadata": {},
   "outputs": [
    {
     "data": {
      "text/html": [
       "<ol>\n",
       "\t<li><dl>\n",
       "\t<dt>$modis_date</dt>\n",
       "\t\t<dd>'A2000049'</dd>\n",
       "\t<dt>$calendar_date</dt>\n",
       "\t\t<dd>'2000-02-18'</dd>\n",
       "</dl>\n",
       "</li>\n",
       "\t<li><dl>\n",
       "\t<dt>$modis_date</dt>\n",
       "\t\t<dd>'A2000057'</dd>\n",
       "\t<dt>$calendar_date</dt>\n",
       "\t\t<dd>'2000-02-26'</dd>\n",
       "</dl>\n",
       "</li>\n",
       "\t<li><dl>\n",
       "\t<dt>$modis_date</dt>\n",
       "\t\t<dd>'A2000065'</dd>\n",
       "\t<dt>$calendar_date</dt>\n",
       "\t\t<dd>'2000-03-05'</dd>\n",
       "</dl>\n",
       "</li>\n",
       "\t<li><dl>\n",
       "\t<dt>$modis_date</dt>\n",
       "\t\t<dd>'A2000073'</dd>\n",
       "\t<dt>$calendar_date</dt>\n",
       "\t\t<dd>'2000-03-13'</dd>\n",
       "</dl>\n",
       "</li>\n",
       "\t<li><dl>\n",
       "\t<dt>$modis_date</dt>\n",
       "\t\t<dd>'A2000081'</dd>\n",
       "\t<dt>$calendar_date</dt>\n",
       "\t\t<dd>'2000-03-21'</dd>\n",
       "</dl>\n",
       "</li>\n",
       "\t<li><dl>\n",
       "\t<dt>$modis_date</dt>\n",
       "\t\t<dd>'A2000089'</dd>\n",
       "\t<dt>$calendar_date</dt>\n",
       "\t\t<dd>'2000-03-29'</dd>\n",
       "</dl>\n",
       "</li>\n",
       "\t<li><dl>\n",
       "\t<dt>$modis_date</dt>\n",
       "\t\t<dd>'A2000097'</dd>\n",
       "\t<dt>$calendar_date</dt>\n",
       "\t\t<dd>'2000-04-06'</dd>\n",
       "</dl>\n",
       "</li>\n",
       "\t<li><dl>\n",
       "\t<dt>$modis_date</dt>\n",
       "\t\t<dd>'A2000105'</dd>\n",
       "\t<dt>$calendar_date</dt>\n",
       "\t\t<dd>'2000-04-14'</dd>\n",
       "</dl>\n",
       "</li>\n",
       "\t<li><dl>\n",
       "\t<dt>$modis_date</dt>\n",
       "\t\t<dd>'A2000113'</dd>\n",
       "\t<dt>$calendar_date</dt>\n",
       "\t\t<dd>'2000-04-22'</dd>\n",
       "</dl>\n",
       "</li>\n",
       "\t<li><dl>\n",
       "\t<dt>$modis_date</dt>\n",
       "\t\t<dd>'A2000121'</dd>\n",
       "\t<dt>$calendar_date</dt>\n",
       "\t\t<dd>'2000-04-30'</dd>\n",
       "</dl>\n",
       "</li>\n",
       "</ol>\n"
      ],
      "text/latex": [
       "\\begin{enumerate}\n",
       "\\item \\begin{description}\n",
       "\\item[\\$modis\\_date] 'A2000049'\n",
       "\\item[\\$calendar\\_date] '2000-02-18'\n",
       "\\end{description}\n",
       "\n",
       "\\item \\begin{description}\n",
       "\\item[\\$modis\\_date] 'A2000057'\n",
       "\\item[\\$calendar\\_date] '2000-02-26'\n",
       "\\end{description}\n",
       "\n",
       "\\item \\begin{description}\n",
       "\\item[\\$modis\\_date] 'A2000065'\n",
       "\\item[\\$calendar\\_date] '2000-03-05'\n",
       "\\end{description}\n",
       "\n",
       "\\item \\begin{description}\n",
       "\\item[\\$modis\\_date] 'A2000073'\n",
       "\\item[\\$calendar\\_date] '2000-03-13'\n",
       "\\end{description}\n",
       "\n",
       "\\item \\begin{description}\n",
       "\\item[\\$modis\\_date] 'A2000081'\n",
       "\\item[\\$calendar\\_date] '2000-03-21'\n",
       "\\end{description}\n",
       "\n",
       "\\item \\begin{description}\n",
       "\\item[\\$modis\\_date] 'A2000089'\n",
       "\\item[\\$calendar\\_date] '2000-03-29'\n",
       "\\end{description}\n",
       "\n",
       "\\item \\begin{description}\n",
       "\\item[\\$modis\\_date] 'A2000097'\n",
       "\\item[\\$calendar\\_date] '2000-04-06'\n",
       "\\end{description}\n",
       "\n",
       "\\item \\begin{description}\n",
       "\\item[\\$modis\\_date] 'A2000105'\n",
       "\\item[\\$calendar\\_date] '2000-04-14'\n",
       "\\end{description}\n",
       "\n",
       "\\item \\begin{description}\n",
       "\\item[\\$modis\\_date] 'A2000113'\n",
       "\\item[\\$calendar\\_date] '2000-04-22'\n",
       "\\end{description}\n",
       "\n",
       "\\item \\begin{description}\n",
       "\\item[\\$modis\\_date] 'A2000121'\n",
       "\\item[\\$calendar\\_date] '2000-04-30'\n",
       "\\end{description}\n",
       "\n",
       "\\end{enumerate}\n"
      ],
      "text/markdown": [
       "1. $modis_date\n",
       ":   'A2000049'\n",
       "$calendar_date\n",
       ":   '2000-02-18'\n",
       "\n",
       "\n",
       "\n",
       "2. $modis_date\n",
       ":   'A2000057'\n",
       "$calendar_date\n",
       ":   '2000-02-26'\n",
       "\n",
       "\n",
       "\n",
       "3. $modis_date\n",
       ":   'A2000065'\n",
       "$calendar_date\n",
       ":   '2000-03-05'\n",
       "\n",
       "\n",
       "\n",
       "4. $modis_date\n",
       ":   'A2000073'\n",
       "$calendar_date\n",
       ":   '2000-03-13'\n",
       "\n",
       "\n",
       "\n",
       "5. $modis_date\n",
       ":   'A2000081'\n",
       "$calendar_date\n",
       ":   '2000-03-21'\n",
       "\n",
       "\n",
       "\n",
       "6. $modis_date\n",
       ":   'A2000089'\n",
       "$calendar_date\n",
       ":   '2000-03-29'\n",
       "\n",
       "\n",
       "\n",
       "7. $modis_date\n",
       ":   'A2000097'\n",
       "$calendar_date\n",
       ":   '2000-04-06'\n",
       "\n",
       "\n",
       "\n",
       "8. $modis_date\n",
       ":   'A2000105'\n",
       "$calendar_date\n",
       ":   '2000-04-14'\n",
       "\n",
       "\n",
       "\n",
       "9. $modis_date\n",
       ":   'A2000113'\n",
       "$calendar_date\n",
       ":   '2000-04-22'\n",
       "\n",
       "\n",
       "\n",
       "10. $modis_date\n",
       ":   'A2000121'\n",
       "$calendar_date\n",
       ":   '2000-04-30'\n",
       "\n",
       "\n",
       "\n",
       "\n",
       "\n"
      ],
      "text/plain": [
       "[[1]]\n",
       "[[1]]$modis_date\n",
       "[1] \"A2000049\"\n",
       "\n",
       "[[1]]$calendar_date\n",
       "[1] \"2000-02-18\"\n",
       "\n",
       "\n",
       "[[2]]\n",
       "[[2]]$modis_date\n",
       "[1] \"A2000057\"\n",
       "\n",
       "[[2]]$calendar_date\n",
       "[1] \"2000-02-26\"\n",
       "\n",
       "\n",
       "[[3]]\n",
       "[[3]]$modis_date\n",
       "[1] \"A2000065\"\n",
       "\n",
       "[[3]]$calendar_date\n",
       "[1] \"2000-03-05\"\n",
       "\n",
       "\n",
       "[[4]]\n",
       "[[4]]$modis_date\n",
       "[1] \"A2000073\"\n",
       "\n",
       "[[4]]$calendar_date\n",
       "[1] \"2000-03-13\"\n",
       "\n",
       "\n",
       "[[5]]\n",
       "[[5]]$modis_date\n",
       "[1] \"A2000081\"\n",
       "\n",
       "[[5]]$calendar_date\n",
       "[1] \"2000-03-21\"\n",
       "\n",
       "\n",
       "[[6]]\n",
       "[[6]]$modis_date\n",
       "[1] \"A2000089\"\n",
       "\n",
       "[[6]]$calendar_date\n",
       "[1] \"2000-03-29\"\n",
       "\n",
       "\n",
       "[[7]]\n",
       "[[7]]$modis_date\n",
       "[1] \"A2000097\"\n",
       "\n",
       "[[7]]$calendar_date\n",
       "[1] \"2000-04-06\"\n",
       "\n",
       "\n",
       "[[8]]\n",
       "[[8]]$modis_date\n",
       "[1] \"A2000105\"\n",
       "\n",
       "[[8]]$calendar_date\n",
       "[1] \"2000-04-14\"\n",
       "\n",
       "\n",
       "[[9]]\n",
       "[[9]]$modis_date\n",
       "[1] \"A2000113\"\n",
       "\n",
       "[[9]]$calendar_date\n",
       "[1] \"2000-04-22\"\n",
       "\n",
       "\n",
       "[[10]]\n",
       "[[10]]$modis_date\n",
       "[1] \"A2000121\"\n",
       "\n",
       "[[10]]$calendar_date\n",
       "[1] \"2000-04-30\"\n",
       "\n"
      ]
     },
     "metadata": {},
     "output_type": "display_data"
    }
   ],
   "source": [
    "r <- GET(\"https://modis.ornl.gov/rst/api/v1/MOD11A2/dates?latitude=39.56499&longitude=-121.55527\")\n",
    "dates <- content(r)$dates\n",
    "\n",
    "modis_dates <- lapply(dates, function(dt) dt$modis_date)\n",
    "calendar_dates <- lapply(dates, function(dt) dt$calendar_date)\n",
    "\n",
    "# Print the first ten MODIS dates\n",
    "dates[1:10]"
   ]
  },
  {
   "cell_type": "markdown",
   "metadata": {},
   "source": [
    "### GET Request: subset\n",
    "***/api/v1/{product}/dates***\n",
    "\n",
    "Returns the subset specified by the input parameters in either json or text/csv format. kmAboveBelow and kmLeftRightight indicate the number of kilometers above and below, left and right of the center pixel of the subset; e.g. for a 500-m product (MOD09A1) 10, 10 will result in a subset with a spatial extent covering 20.5- x 20.5-km.  \n",
    "\n",
    "| Parameter          | Description                                                   |\n",
    "|:-------------------|:--------------------------------------------------------------|\n",
    "| **product**        | MODIS product code as listed by **products**                  |\n",
    "| **latitude**       | latitude                                                      |\n",
    "| **longitude**      | longitude                                                     |\n",
    "| **band**           | band ID as listed by **bands**                                |\n",
    "| **startDate**      | MODIS start date as listed by **dates** (\"AYYYYDOY\")          |\n",
    "| **endDate**        | MODIS end date as listed by **dates** (\"AYYYYDOY\")            |\n",
    "| **kmAboveBelow**   | number of kilometers to subset above and below center pixel   |\n",
    "| **kmLeftRight**    | number of kilometers to subset left and right of center pixel |\n",
    "\n",
    "Submit a request for the MOD11A2 daytime LST 8-day composite for January 1, 2001 for a 4.5- by 4.5-km area near North Table Mountain Ecological Reserve in California (39.56499, -121.55527) using the **subset** function:"
   ]
  },
  {
   "cell_type": "code",
   "execution_count": 3,
   "metadata": {},
   "outputs": [
    {
     "data": {
      "text/html": [
       "<table>\n",
       "<thead><tr><th scope=col>X1</th><th scope=col>X2</th><th scope=col>X3</th><th scope=col>X4</th><th scope=col>X5</th><th scope=col>X6</th><th scope=col>X7</th><th scope=col>X8</th><th scope=col>X9</th><th scope=col>X10</th><th scope=col>...</th><th scope=col>X21</th><th scope=col>X22</th><th scope=col>X23</th><th scope=col>X24</th><th scope=col>X25</th><th scope=col>X26</th><th scope=col>X27</th><th scope=col>X28</th><th scope=col>X29</th><th scope=col>X30</th></tr></thead>\n",
       "<tbody>\n",
       "\t<tr><td>MOD11A2.A2001001.h08v05.006.2015111234608.LST_Day_1km</td><td>MOD11A2                                              </td><td>A2001001                                             </td><td>Lat39.56499Lon-121.55527Samp5Line5                   </td><td>2.015111e+12                                         </td><td>14341                                                </td><td>14349                                                </td><td>14366                                                </td><td>14391                                                </td><td>14404                                                </td><td>...                                                  </td><td>14285                                                </td><td>14294                                                </td><td>14293                                                </td><td>14375                                                </td><td>14364                                                </td><td>14353                                                </td><td>14301                                                </td><td>14271                                                </td><td>14350                                                </td><td>14270                                                </td></tr>\n",
       "</tbody>\n",
       "</table>\n"
      ],
      "text/latex": [
       "\\begin{tabular}{r|llllllllllllllllllllllllllllll}\n",
       " X1 & X2 & X3 & X4 & X5 & X6 & X7 & X8 & X9 & X10 & ... & X21 & X22 & X23 & X24 & X25 & X26 & X27 & X28 & X29 & X30\\\\\n",
       "\\hline\n",
       "\t MOD11A2.A2001001.h08v05.006.2015111234608.LST\\_Day\\_1km & MOD11A2                                                   & A2001001                                                  & Lat39.56499Lon-121.55527Samp5Line5                        & 2.015111e+12                                              & 14341                                                     & 14349                                                     & 14366                                                     & 14391                                                     & 14404                                                     & ...                                                       & 14285                                                     & 14294                                                     & 14293                                                     & 14375                                                     & 14364                                                     & 14353                                                     & 14301                                                     & 14271                                                     & 14350                                                     & 14270                                                    \\\\\n",
       "\\end{tabular}\n"
      ],
      "text/markdown": [
       "\n",
       "X1 | X2 | X3 | X4 | X5 | X6 | X7 | X8 | X9 | X10 | ... | X21 | X22 | X23 | X24 | X25 | X26 | X27 | X28 | X29 | X30 | \n",
       "|---|\n",
       "| MOD11A2.A2001001.h08v05.006.2015111234608.LST_Day_1km | MOD11A2                                               | A2001001                                              | Lat39.56499Lon-121.55527Samp5Line5                    | 2.015111e+12                                          | 14341                                                 | 14349                                                 | 14366                                                 | 14391                                                 | 14404                                                 | ...                                                   | 14285                                                 | 14294                                                 | 14293                                                 | 14375                                                 | 14364                                                 | 14353                                                 | 14301                                                 | 14271                                                 | 14350                                                 | 14270                                                 | \n",
       "\n",
       "\n"
      ],
      "text/plain": [
       "  X1                                                    X2      X3      \n",
       "1 MOD11A2.A2001001.h08v05.006.2015111234608.LST_Day_1km MOD11A2 A2001001\n",
       "  X4                                 X5           X6    X7    X8    X9    X10  \n",
       "1 Lat39.56499Lon-121.55527Samp5Line5 2.015111e+12 14341 14349 14366 14391 14404\n",
       "  ... X21   X22   X23   X24   X25   X26   X27   X28   X29   X30  \n",
       "1 ... 14285 14294 14293 14375 14364 14353 14301 14271 14350 14270"
      ]
     },
     "metadata": {},
     "output_type": "display_data"
    }
   ],
   "source": [
    "r <- GET(\"https://modis.ornl.gov/rst/api/v1/MOD11A2/subset?latitude=39.56499&longitude=-121.55527&band=LST_Day_1km&startDate=A2001001&endDate=A2001001&kmAboveBelow=2&kmLeftRight=2\", add_headers(Accept = \"text/csv\"))\n",
    "subset <- read_csv(content(r, as=\"text\"), col_names = FALSE)\n",
    "subset"
   ]
  },
  {
   "cell_type": "markdown",
   "metadata": {},
   "source": [
    "Note that we have added headers to accept the request response in text/csv format:  \n",
    "```\n",
    "GET(URL, add_headers(Accept = \"text/csv\")\n",
    "```\n",
    "The response is read into an R data.frame using the read_csv function from the *readr* library.\n",
    "```\n",
    "read_csv(content(r, as=\"text\"), col_names = FALSE)\n",
    "```\n",
    "\n",
    "The request response can also be formatted as JSON using the *jsonlite* library that we imported above. No headers need to be submitted with the request:"
   ]
  },
  {
   "cell_type": "code",
   "execution_count": 4,
   "metadata": {},
   "outputs": [
    {
     "data": {
      "text/plain": [
       "{\"xllcorner\":[\"-10421756.18\"],\"yllcorner\":[\"4396837.72\"],\"cellsize\":[926.6254],\"nrows\":[5],\"ncols\":[5],\"band\":[\"LST_Day_1km\"],\"units\":[\"Kelvin\"],\"scale\":[\"0.02\"],\"latitude\":[39.565],\"longitude\":[-121.5553],\"header\":[\"https://modis.ornl.gov/rst/api/v1/MOD11A2/subset?latitude=39.56499&longitude=-121.55527&band=LST_Day_1km&startDate=A2001001&endDate=A2001001&kmAboveBelow=2&kmLeftRight=2\"],\"subset\":[{\"modis_date\":[\"A2001001\"],\"calendar_date\":[\"2001-01-01\"],\"band\":[\"LST_Day_1km\"],\"tile\":[\"h08v05\"],\"proc_date\":[\"2015111234608\"],\"data\":[[14341],[14349],[14366],[14391],[14404],[14360],[14354],[14363],[14351],[14344],[14328],[14299],[14270],[14374],[14396],[14285],[14294],[14293],[14375],[14364],[14353],[14301],[14271],[14350],[14270]]}]} "
      ]
     },
     "metadata": {},
     "output_type": "display_data"
    }
   ],
   "source": [
    "r <- GET(\"https://modis.ornl.gov/rst/api/v1/MOD11A2/subset?latitude=39.56499&longitude=-121.55527&band=LST_Day_1km&startDate=A2001001&endDate=A2001001&kmAboveBelow=2&kmLeftRight=2\")\n",
    "toJSON(content(r))"
   ]
  },
  {
   "cell_type": "markdown",
   "metadata": {},
   "source": [
    "Now you're ready to request a time series of data.\n",
    "\n",
    "## Build time series from multiple requests\n",
    "\n",
    "Because of the ten tile limit imposed by the web service, we must submit multiple requests to build a multi-year time series. \n",
    "\n",
    "Let's request three years of LST data for a 20.5- x 20.5-km area around the same coordinate in North Table Mountain Ecological Reserve (39.56499, -121.55527). Set up the **subset** input parameters:"
   ]
  },
  {
   "cell_type": "code",
   "execution_count": 5,
   "metadata": {},
   "outputs": [],
   "source": [
    "lat <- 39.56499 # Input latitude\n",
    "lon <- -121.55527 # Input longitude\n",
    "prod <- 'MOD11A2' # MODIS product\n",
    "data_band <- 'LST_Day_1km' # Daytime LST band name\n",
    "qc_band <- 'QC_Day' # Daytime QC band name\n",
    "above_below <- 10 # km above/below\n",
    "left_right <- 10 # km left/right"
   ]
  },
  {
   "cell_type": "markdown",
   "metadata": {},
   "source": [
    "**MOD11A2** is generated in 8-day composites for a total of 46 composite periods per calendar year. \n",
    "\n",
    "Take three years of dates beginning with A2001001 : 46 \\* 3 = 138 dates"
   ]
  },
  {
   "cell_type": "code",
   "execution_count": 6,
   "metadata": {},
   "outputs": [],
   "source": [
    "dates <- modis_dates[which(modis_dates == 'A2001001'):(which(modis_dates == 'A2001001') - 1 + 137)]"
   ]
  },
  {
   "cell_type": "markdown",
   "metadata": {},
   "source": [
    "For the sake of readibility, define a simple function to assemble request URL strings:"
   ]
  },
  {
   "cell_type": "code",
   "execution_count": 7,
   "metadata": {},
   "outputs": [],
   "source": [
    "requestURL <- function(latitude, longitude, band, start_date, end_date, kmAB, kmLR){\n",
    "    return(\n",
    "        paste0(\n",
    "            url,prod,\"/subset?\",\n",
    "            \"latitude=\",latitude,\n",
    "            \"&longitude=\",longitude,\n",
    "            \"&band=\",band,\n",
    "            \"&startDate=\",start_date,\n",
    "            \"&endDate=\",end_date,\n",
    "            \"&kmAboveBelow=\",kmAB,\n",
    "            \"&kmLeftRight=\",kmLR\n",
    "        )\n",
    "    )\n",
    "}"
   ]
  },
  {
   "cell_type": "markdown",
   "metadata": {},
   "source": [
    "We will loop through the dates and submit requests for both the **daytime LST** (LST_Day_1km) and **daytime QC layers** (QC_Day). This may take several minutes:"
   ]
  },
  {
   "cell_type": "code",
   "execution_count": 8,
   "metadata": {},
   "outputs": [],
   "source": [
    "# Initialize response data.frames to store the returned LST and QC data\n",
    "lstdata <- data.frame()\n",
    "qcdata <- data.frame()\n",
    "\n",
    "# Iterate through the list of dates and submit subset requests in increments of 10 dates.\n",
    "for (dt in dates){\n",
    "    \n",
    "    # Submit request and append to LST time series\n",
    "    r <- GET( requestURL(lat, lon, data_band, dt, dt, above_below, left_right) )\n",
    "    lstsubset <- fromJSON(toJSON(content(r)))\n",
    "    lstdata <- rbind(lstdata, lstsubset$subset)\n",
    "    \n",
    "    # Submit request and append to QC time series\n",
    "    r <- GET( requestURL(lat, lon, qc_band, dt, dt, above_below, left_right) )\n",
    "    qcsubset <- fromJSON(toJSON(content(r)))\n",
    "    qcdata <- rbind(qcdata, qcsubset$subset)\n",
    "\n",
    "}"
   ]
  },
  {
   "cell_type": "markdown",
   "metadata": {},
   "source": [
    "Get the LST scale factor, and the numbers of columns and rows of our subset for later use:"
   ]
  },
  {
   "cell_type": "code",
   "execution_count": 9,
   "metadata": {},
   "outputs": [],
   "source": [
    "# Get LST scale factor\n",
    "scale = as.double(lstsubset$scale)\n",
    "\n",
    "# Get subset row and column counts for data transformation\n",
    "nrow = as.integer(lstsubset$nrow)\n",
    "ncol = as.integer(lstsubset$ncol)"
   ]
  },
  {
   "cell_type": "markdown",
   "metadata": {},
   "source": [
    "**Create LST and QC data.frames**\n",
    "\n",
    "Convert *modis_date* columns of **lstdata** and **qcdata** to R dates. Then, convert the *data* columns of **lstdata** and **qcdata** to data.frames where rows are timesteps and columns are pixels."
   ]
  },
  {
   "cell_type": "code",
   "execution_count": 10,
   "metadata": {
    "scrolled": false
   },
   "outputs": [],
   "source": [
    "# Change the modis_date columns of lstdata and qcdata into R dates:\n",
    "lstdata$modis_date <- as.Date(substring(dates, 2), '%Y%j')\n",
    "qcdata$modis_date <- as.Date(substring(dates, 2), '%Y%j')\n",
    "\n",
    "# Create separate data.frames for data columns (lstvalues and qcvalues)\n",
    "lstvalues <- t(as.data.frame(lstdata$data, col.names=lstdata$modis_date, check.names=FALSE))\n",
    "qcvalues <- t(as.data.frame(qcdata$data, col.names=qcdata$modis_date, check.names=FALSE))"
   ]
  },
  {
   "cell_type": "markdown",
   "metadata": {},
   "source": [
    "Now that we have the LST and QC time series for our subset area, we can perform the quality filtering.\n",
    "\n",
    "### Evaluate QC data\n",
    "\n",
    "In order to filter the pixels with questionable quality from our LST time series, we need to understand the QC bit layer. We will do this using a clever method implemented by [Steve Mosher](https://stevemosher.wordpress.com/2012/12/05/modis-qc-bits/).\n",
    "\n",
    "Let's start by getting the unique values from the QC subset data.frame:"
   ]
  },
  {
   "cell_type": "code",
   "execution_count": 11,
   "metadata": {},
   "outputs": [
    {
     "name": "stdout",
     "output_type": "stream",
     "text": [
      "[1] Unique QC values: 0, 2, 17, 65, 81, 97, 145\n"
     ]
    }
   ],
   "source": [
    "qcvals <- unique(c(qcvalues))\n",
    "print(paste('Unique QC values: ', paste(sort(qcvals), collapse=', '), sep = ''), quote = FALSE)"
   ]
  },
  {
   "cell_type": "markdown",
   "metadata": {},
   "source": [
    "**MOD11A2** uses 8-bit unsigned integers to indicate the quality of each pixel. See the [MOD11A2](https://lpdaac.usgs.gov/dataset_discovery/modis/modis_products_table/mod11a2_v006) page of the [MODIS Product Table](https://lpdaac.usgs.gov/dataset_discovery/modis/modis_products_table) for additional resources.\n",
    "\n",
    "Build a table describing the bits for all possible QC 8-bit integer values (0-255):"
   ]
  },
  {
   "cell_type": "code",
   "execution_count": 12,
   "metadata": {},
   "outputs": [],
   "source": [
    "# Create empty data.frame with a row for each possible QC integer value and columns for each bit (8bit)\n",
    "QC_Data <- data.frame(\n",
    "    Integer_Value = 0:255, Bit7 = NA, Bit6 = NA, Bit5 = NA, Bit4 = NA, Bit3 = NA, Bit2 = NA, \n",
    "    Bit1 = NA, Bit0 = NA, Mandatory_QA = NA, Data_Quality = NA, Emiss_Err = NA, LST_Err = NA\n",
    ")\n",
    "\n",
    "# Loop through each QC integer and populate the QC bit columns with 0s and 1s\n",
    "for(i in QC_Data$Integer_Value){\n",
    "    AsInt <- as.integer(intToBits(i)[1:8])\n",
    "    QC_Data[i+1,2:9]<- AsInt[8:1] # Flip to big endian\n",
    "}\n",
    "\n",
    "# Describe the QC bits based on the criteria outlined in the MODIS product table\n",
    "QC_Data$Mandatory_QA[QC_Data$Bit1 == 0 & QC_Data$Bit0==0] <- 'LST GOOD'\n",
    "QC_Data$Mandatory_QA[QC_Data$Bit1 == 0 & QC_Data$Bit0==1] <- 'LST Produced,Other Quality'\n",
    "QC_Data$Mandatory_QA[QC_Data$Bit1 == 1 & QC_Data$Bit0==0] <- 'No Pixel,clouds'\n",
    "QC_Data$Mandatory_QA[QC_Data$Bit1 == 1 & QC_Data$Bit0==1] <- 'No Pixel, Other QA'\n",
    "\n",
    "QC_Data$Data_Quality[QC_Data$Bit3 == 0 & QC_Data$Bit2==0] <- 'Good Data'\n",
    "QC_Data$Data_Quality[QC_Data$Bit3 == 0 & QC_Data$Bit2==1] <- 'Other Quality'\n",
    "QC_Data$Data_Quality[QC_Data$Bit3 == 1 & QC_Data$Bit2==0] <- 'TBD'\n",
    "QC_Data$Data_Quality[QC_Data$Bit3 == 1 & QC_Data$Bit2==1] <- 'TBD'\n",
    "\n",
    "QC_Data$Emiss_Err[QC_Data$Bit5 == 0 & QC_Data$Bit4==0] <- 'Emiss Error <= .01'\n",
    "QC_Data$Emiss_Err[QC_Data$Bit5 == 0 & QC_Data$Bit4==1] <- 'Emiss Err <=.02'\n",
    "QC_Data$Emiss_Err[QC_Data$Bit5 == 1 & QC_Data$Bit4==0] <- 'Emiss Err <=.04'\n",
    "QC_Data$Emiss_Err[QC_Data$Bit5 == 1 & QC_Data$Bit4==1] <- 'Emiss Err > .04'\n",
    "\n",
    "QC_Data$LST_Err[QC_Data$Bit7 == 0 & QC_Data$Bit6==0] <- 'LST Err <= 1K'\n",
    "QC_Data$LST_Err[QC_Data$Bit7 == 0 & QC_Data$Bit6==1] <- 'LST Err <= 3K'\n",
    "QC_Data$LST_Err[QC_Data$Bit7 == 1 & QC_Data$Bit6==0] <- 'LST Err <= 2K'\n",
    "QC_Data$LST_Err[QC_Data$Bit7 == 1 & QC_Data$Bit6==1] <- 'LST Err > 3K'"
   ]
  },
  {
   "cell_type": "markdown",
   "metadata": {},
   "source": [
    "The QC table is too large to print. Let's subset the table to include only rows for QC integer values contained within our subset:"
   ]
  },
  {
   "cell_type": "code",
   "execution_count": 13,
   "metadata": {},
   "outputs": [
    {
     "data": {
      "text/html": [
       "<table>\n",
       "<thead><tr><th scope=col>Integer_Value</th><th scope=col>Bit7</th><th scope=col>Bit6</th><th scope=col>Bit5</th><th scope=col>Bit4</th><th scope=col>Bit3</th><th scope=col>Bit2</th><th scope=col>Bit1</th><th scope=col>Bit0</th><th scope=col>Mandatory_QA</th><th scope=col>Data_Quality</th><th scope=col>Emiss_Err</th><th scope=col>LST_Err</th></tr></thead>\n",
       "<tbody>\n",
       "\t<tr><td><span style=white-space:pre-wrap>  0</span>                       </td><td>0                                                                 </td><td>0                                                                 </td><td>0                                                                 </td><td>0                                                                 </td><td>0                                                                 </td><td>0                                                                 </td><td>0                                                                 </td><td>0                                                                 </td><td><span style=white-space:pre-wrap>LST GOOD                  </span></td><td>Good Data                                                         </td><td>Emiss Error &lt;= .01                                             </td><td>LST Err &lt;= 1K                                                  </td></tr>\n",
       "\t<tr><td><span style=white-space:pre-wrap>  2</span>                       </td><td>0                                                                 </td><td>0                                                                 </td><td>0                                                                 </td><td>0                                                                 </td><td>0                                                                 </td><td>0                                                                 </td><td>1                                                                 </td><td>0                                                                 </td><td><span style=white-space:pre-wrap>No Pixel,clouds           </span></td><td>Good Data                                                         </td><td>Emiss Error &lt;= .01                                             </td><td>LST Err &lt;= 1K                                                  </td></tr>\n",
       "\t<tr><td> 17                                                          </td><td>0                                                            </td><td>0                                                            </td><td>0                                                            </td><td>1                                                            </td><td>0                                                            </td><td>0                                                            </td><td>0                                                            </td><td>1                                                            </td><td>LST Produced,Other Quality                                   </td><td>Good Data                                                    </td><td><span style=white-space:pre-wrap>Emiss Err &lt;=.02   </span></td><td>LST Err &lt;= 1K                                             </td></tr>\n",
       "\t<tr><td> 65                       </td><td>0                         </td><td>1                         </td><td>0                         </td><td>0                         </td><td>0                         </td><td>0                         </td><td>0                         </td><td>1                         </td><td>LST Produced,Other Quality</td><td>Good Data                 </td><td>Emiss Error &lt;= .01     </td><td>LST Err &lt;= 3K          </td></tr>\n",
       "\t<tr><td> 81                                                          </td><td>0                                                            </td><td>1                                                            </td><td>0                                                            </td><td>1                                                            </td><td>0                                                            </td><td>0                                                            </td><td>0                                                            </td><td>1                                                            </td><td>LST Produced,Other Quality                                   </td><td>Good Data                                                    </td><td><span style=white-space:pre-wrap>Emiss Err &lt;=.02   </span></td><td>LST Err &lt;= 3K                                             </td></tr>\n",
       "\t<tr><td> 97                                                          </td><td>0                                                            </td><td>1                                                            </td><td>1                                                            </td><td>0                                                            </td><td>0                                                            </td><td>0                                                            </td><td>0                                                            </td><td>1                                                            </td><td>LST Produced,Other Quality                                   </td><td>Good Data                                                    </td><td><span style=white-space:pre-wrap>Emiss Err &lt;=.04   </span></td><td>LST Err &lt;= 3K                                             </td></tr>\n",
       "\t<tr><td>145                                                          </td><td>1                                                            </td><td>0                                                            </td><td>0                                                            </td><td>1                                                            </td><td>0                                                            </td><td>0                                                            </td><td>0                                                            </td><td>1                                                            </td><td>LST Produced,Other Quality                                   </td><td>Good Data                                                    </td><td><span style=white-space:pre-wrap>Emiss Err &lt;=.02   </span></td><td>LST Err &lt;= 2K                                             </td></tr>\n",
       "</tbody>\n",
       "</table>\n"
      ],
      "text/latex": [
       "\\begin{tabular}{r|lllllllllllll}\n",
       " Integer\\_Value & Bit7 & Bit6 & Bit5 & Bit4 & Bit3 & Bit2 & Bit1 & Bit0 & Mandatory\\_QA & Data\\_Quality & Emiss\\_Err & LST\\_Err\\\\\n",
       "\\hline\n",
       "\t   0                        & 0                          & 0                          & 0                          & 0                          & 0                          & 0                          & 0                          & 0                          & LST GOOD                   & Good Data                  & Emiss Error <= .01         & LST Err <= 1K             \\\\\n",
       "\t   2                        & 0                          & 0                          & 0                          & 0                          & 0                          & 0                          & 1                          & 0                          & No Pixel,clouds            & Good Data                  & Emiss Error <= .01         & LST Err <= 1K             \\\\\n",
       "\t  17                        & 0                          & 0                          & 0                          & 1                          & 0                          & 0                          & 0                          & 1                          & LST Produced,Other Quality & Good Data                  & Emiss Err <=.02            & LST Err <= 1K             \\\\\n",
       "\t  65                        & 0                          & 1                          & 0                          & 0                          & 0                          & 0                          & 0                          & 1                          & LST Produced,Other Quality & Good Data                  & Emiss Error <= .01         & LST Err <= 3K             \\\\\n",
       "\t  81                        & 0                          & 1                          & 0                          & 1                          & 0                          & 0                          & 0                          & 1                          & LST Produced,Other Quality & Good Data                  & Emiss Err <=.02            & LST Err <= 3K             \\\\\n",
       "\t  97                        & 0                          & 1                          & 1                          & 0                          & 0                          & 0                          & 0                          & 1                          & LST Produced,Other Quality & Good Data                  & Emiss Err <=.04            & LST Err <= 3K             \\\\\n",
       "\t 145                        & 1                          & 0                          & 0                          & 1                          & 0                          & 0                          & 0                          & 1                          & LST Produced,Other Quality & Good Data                  & Emiss Err <=.02            & LST Err <= 2K             \\\\\n",
       "\\end{tabular}\n"
      ],
      "text/markdown": [
       "\n",
       "Integer_Value | Bit7 | Bit6 | Bit5 | Bit4 | Bit3 | Bit2 | Bit1 | Bit0 | Mandatory_QA | Data_Quality | Emiss_Err | LST_Err | \n",
       "|---|---|---|---|---|---|---|\n",
       "|   0                        | 0                          | 0                          | 0                          | 0                          | 0                          | 0                          | 0                          | 0                          | LST GOOD                   | Good Data                  | Emiss Error <= .01         | LST Err <= 1K              | \n",
       "|   2                        | 0                          | 0                          | 0                          | 0                          | 0                          | 0                          | 1                          | 0                          | No Pixel,clouds            | Good Data                  | Emiss Error <= .01         | LST Err <= 1K              | \n",
       "|  17                        | 0                          | 0                          | 0                          | 1                          | 0                          | 0                          | 0                          | 1                          | LST Produced,Other Quality | Good Data                  | Emiss Err <=.02            | LST Err <= 1K              | \n",
       "|  65                        | 0                          | 1                          | 0                          | 0                          | 0                          | 0                          | 0                          | 1                          | LST Produced,Other Quality | Good Data                  | Emiss Error <= .01         | LST Err <= 3K              | \n",
       "|  81                        | 0                          | 1                          | 0                          | 1                          | 0                          | 0                          | 0                          | 1                          | LST Produced,Other Quality | Good Data                  | Emiss Err <=.02            | LST Err <= 3K              | \n",
       "|  97                        | 0                          | 1                          | 1                          | 0                          | 0                          | 0                          | 0                          | 1                          | LST Produced,Other Quality | Good Data                  | Emiss Err <=.04            | LST Err <= 3K              | \n",
       "| 145                        | 1                          | 0                          | 0                          | 1                          | 0                          | 0                          | 0                          | 1                          | LST Produced,Other Quality | Good Data                  | Emiss Err <=.02            | LST Err <= 2K              | \n",
       "\n",
       "\n"
      ],
      "text/plain": [
       "  Integer_Value Bit7 Bit6 Bit5 Bit4 Bit3 Bit2 Bit1 Bit0\n",
       "1   0           0    0    0    0    0    0    0    0   \n",
       "2   2           0    0    0    0    0    0    1    0   \n",
       "3  17           0    0    0    1    0    0    0    1   \n",
       "4  65           0    1    0    0    0    0    0    1   \n",
       "5  81           0    1    0    1    0    0    0    1   \n",
       "6  97           0    1    1    0    0    0    0    1   \n",
       "7 145           1    0    0    1    0    0    0    1   \n",
       "  Mandatory_QA               Data_Quality Emiss_Err          LST_Err      \n",
       "1 LST GOOD                   Good Data    Emiss Error <= .01 LST Err <= 1K\n",
       "2 No Pixel,clouds            Good Data    Emiss Error <= .01 LST Err <= 1K\n",
       "3 LST Produced,Other Quality Good Data    Emiss Err <=.02    LST Err <= 1K\n",
       "4 LST Produced,Other Quality Good Data    Emiss Error <= .01 LST Err <= 3K\n",
       "5 LST Produced,Other Quality Good Data    Emiss Err <=.02    LST Err <= 3K\n",
       "6 LST Produced,Other Quality Good Data    Emiss Err <=.04    LST Err <= 3K\n",
       "7 LST Produced,Other Quality Good Data    Emiss Err <=.02    LST Err <= 2K"
      ]
     },
     "metadata": {},
     "output_type": "display_data"
    }
   ],
   "source": [
    "QC_Data <- QC_Data[QC_Data$Integer_Value %in% qcvals,]\n",
    "rownames(QC_Data) <- NULL\n",
    "QC_Data"
   ]
  },
  {
   "cell_type": "markdown",
   "metadata": {},
   "source": [
    "Now we can decide which QC filtering criteria satisfy our needs. We'll keep the rows for integers that represent pixels of unacceptable quality and use that to make a mask from the quality layer for each timestep:\n",
    "\n",
    "1. **Mandatory_QA** must not be *\"No Pixel,clouds\"*     \n",
    "2. **LST_Err** must be less than or equal to 2 degrees Kelvin   \n",
    "\n",
    "Subset the QC integer table again to include only rows that represent QC criteria for pixels that we want to filter:"
   ]
  },
  {
   "cell_type": "code",
   "execution_count": 14,
   "metadata": {},
   "outputs": [
    {
     "data": {
      "text/html": [
       "<table>\n",
       "<thead><tr><th scope=col>Integer_Value</th><th scope=col>Bit7</th><th scope=col>Bit6</th><th scope=col>Bit5</th><th scope=col>Bit4</th><th scope=col>Bit3</th><th scope=col>Bit2</th><th scope=col>Bit1</th><th scope=col>Bit0</th><th scope=col>Mandatory_QA</th><th scope=col>Data_Quality</th><th scope=col>Emiss_Err</th><th scope=col>LST_Err</th></tr></thead>\n",
       "<tbody>\n",
       "\t<tr><td> 2                                                                </td><td>0                                                                 </td><td>0                                                                 </td><td>0                                                                 </td><td>0                                                                 </td><td>0                                                                 </td><td>0                                                                 </td><td>1                                                                 </td><td>0                                                                 </td><td><span style=white-space:pre-wrap>No Pixel,clouds           </span></td><td>Good Data                                                         </td><td>Emiss Error &lt;= .01                                             </td><td>LST Err &lt;= 1K                                                  </td></tr>\n",
       "\t<tr><td>65                        </td><td>0                         </td><td>1                         </td><td>0                         </td><td>0                         </td><td>0                         </td><td>0                         </td><td>0                         </td><td>1                         </td><td>LST Produced,Other Quality</td><td>Good Data                 </td><td>Emiss Error &lt;= .01     </td><td>LST Err &lt;= 3K          </td></tr>\n",
       "\t<tr><td>81                                                           </td><td>0                                                            </td><td>1                                                            </td><td>0                                                            </td><td>1                                                            </td><td>0                                                            </td><td>0                                                            </td><td>0                                                            </td><td>1                                                            </td><td>LST Produced,Other Quality                                   </td><td>Good Data                                                    </td><td><span style=white-space:pre-wrap>Emiss Err &lt;=.02   </span></td><td>LST Err &lt;= 3K                                             </td></tr>\n",
       "\t<tr><td>97                                                           </td><td>0                                                            </td><td>1                                                            </td><td>1                                                            </td><td>0                                                            </td><td>0                                                            </td><td>0                                                            </td><td>0                                                            </td><td>1                                                            </td><td>LST Produced,Other Quality                                   </td><td>Good Data                                                    </td><td><span style=white-space:pre-wrap>Emiss Err &lt;=.04   </span></td><td>LST Err &lt;= 3K                                             </td></tr>\n",
       "</tbody>\n",
       "</table>\n"
      ],
      "text/latex": [
       "\\begin{tabular}{r|lllllllllllll}\n",
       " Integer\\_Value & Bit7 & Bit6 & Bit5 & Bit4 & Bit3 & Bit2 & Bit1 & Bit0 & Mandatory\\_QA & Data\\_Quality & Emiss\\_Err & LST\\_Err\\\\\n",
       "\\hline\n",
       "\t  2                         & 0                          & 0                          & 0                          & 0                          & 0                          & 0                          & 1                          & 0                          & No Pixel,clouds            & Good Data                  & Emiss Error <= .01         & LST Err <= 1K             \\\\\n",
       "\t 65                         & 0                          & 1                          & 0                          & 0                          & 0                          & 0                          & 0                          & 1                          & LST Produced,Other Quality & Good Data                  & Emiss Error <= .01         & LST Err <= 3K             \\\\\n",
       "\t 81                         & 0                          & 1                          & 0                          & 1                          & 0                          & 0                          & 0                          & 1                          & LST Produced,Other Quality & Good Data                  & Emiss Err <=.02            & LST Err <= 3K             \\\\\n",
       "\t 97                         & 0                          & 1                          & 1                          & 0                          & 0                          & 0                          & 0                          & 1                          & LST Produced,Other Quality & Good Data                  & Emiss Err <=.04            & LST Err <= 3K             \\\\\n",
       "\\end{tabular}\n"
      ],
      "text/markdown": [
       "\n",
       "Integer_Value | Bit7 | Bit6 | Bit5 | Bit4 | Bit3 | Bit2 | Bit1 | Bit0 | Mandatory_QA | Data_Quality | Emiss_Err | LST_Err | \n",
       "|---|---|---|---|\n",
       "|  2                         | 0                          | 0                          | 0                          | 0                          | 0                          | 0                          | 1                          | 0                          | No Pixel,clouds            | Good Data                  | Emiss Error <= .01         | LST Err <= 1K              | \n",
       "| 65                         | 0                          | 1                          | 0                          | 0                          | 0                          | 0                          | 0                          | 1                          | LST Produced,Other Quality | Good Data                  | Emiss Error <= .01         | LST Err <= 3K              | \n",
       "| 81                         | 0                          | 1                          | 0                          | 1                          | 0                          | 0                          | 0                          | 1                          | LST Produced,Other Quality | Good Data                  | Emiss Err <=.02            | LST Err <= 3K              | \n",
       "| 97                         | 0                          | 1                          | 1                          | 0                          | 0                          | 0                          | 0                          | 1                          | LST Produced,Other Quality | Good Data                  | Emiss Err <=.04            | LST Err <= 3K              | \n",
       "\n",
       "\n"
      ],
      "text/plain": [
       "  Integer_Value Bit7 Bit6 Bit5 Bit4 Bit3 Bit2 Bit1 Bit0\n",
       "1  2            0    0    0    0    0    0    1    0   \n",
       "2 65            0    1    0    0    0    0    0    1   \n",
       "3 81            0    1    0    1    0    0    0    1   \n",
       "4 97            0    1    1    0    0    0    0    1   \n",
       "  Mandatory_QA               Data_Quality Emiss_Err          LST_Err      \n",
       "1 No Pixel,clouds            Good Data    Emiss Error <= .01 LST Err <= 1K\n",
       "2 LST Produced,Other Quality Good Data    Emiss Error <= .01 LST Err <= 3K\n",
       "3 LST Produced,Other Quality Good Data    Emiss Err <=.02    LST Err <= 3K\n",
       "4 LST Produced,Other Quality Good Data    Emiss Err <=.04    LST Err <= 3K"
      ]
     },
     "metadata": {},
     "output_type": "display_data"
    }
   ],
   "source": [
    "QC_Data <- QC_Data[!(QC_Data$LST_Err %in% c(\"LST Err <= 1K\",\"LST Err <= 2K\")) | QC_Data$Mandatory_QA == \"No Pixel,clouds\",]\n",
    "rownames(QC_Data) <- NULL\n",
    "QC_Data"
   ]
  },
  {
   "cell_type": "markdown",
   "metadata": {},
   "source": [
    "Loop through rows of **lstvalues** and **qcvalues** and filter pixels where:\n",
    "```\n",
    "qcvalues %in% QC_Data$Integer_Value\n",
    "```"
   ]
  },
  {
   "cell_type": "code",
   "execution_count": 15,
   "metadata": {},
   "outputs": [],
   "source": [
    "filter <- QC_Data$Integer_Value # We will remove these values\n",
    "\n",
    "for(tstep in seq(1, length(dates), by = 1)){   \n",
    "    filt <- which(qcvalues[tstep,] %in% filter)\n",
    "    lstvalues[tstep,filt] <- NA\n",
    "}"
   ]
  },
  {
   "cell_type": "markdown",
   "metadata": {},
   "source": [
    "### Plot the LST time series\n",
    "\n",
    "Now that the LST data is filtered according to our QC criteria, let's prepare the time series for plotting. Apply the scale factor for LST (0.02). We retrieved the scale factor with our last request response (*subset$scale*).\n",
    "\n",
    "Then, calculate mean, standard deviation, and the percentage of acceptable quality pixels for each timestep in a new data.frame called **lststats**:"
   ]
  },
  {
   "cell_type": "code",
   "execution_count": 16,
   "metadata": {},
   "outputs": [],
   "source": [
    "lstvalues <- lstvalues*as.numeric(scale) # Apply scale factor\n",
    "\n",
    "lststats <- data.frame(\n",
    "    date = lstdata$modis_date, \n",
    "    mean = rowMeans(lstvalues, na.rm=TRUE), \n",
    "    sd = apply(lstvalues, 1, sd, na.rm = TRUE),\n",
    "    quality = apply(lstvalues, 1, function(x) sum(!is.na(x))/(nrow*ncol)*100))\n",
    "\n",
    "# Get min and max of the calculated means\n",
    "meanMax <- max(lststats$mean, na.rm = TRUE)\n",
    "meanMin <- min(lststats$mean, na.rm = TRUE)     \n",
    "# Create simple function to scale the quality values to the mean values for plotting\n",
    "scaleq <- function(x){((x-0)/(100-0))*(meanMax-meanMin)+meanMin}"
   ]
  },
  {
   "cell_type": "markdown",
   "metadata": {},
   "source": [
    "Find the 68% confidence intervals and plot:"
   ]
  },
  {
   "cell_type": "code",
   "execution_count": 17,
   "metadata": {
    "scrolled": false
   },
   "outputs": [
    {
     "data": {},
     "metadata": {},
     "output_type": "display_data"
    },
    {
     "data": {
      "image/png": "[encoded data removed]",
      "text/plain": [
       "plot without title"
      ]
     },
     "metadata": {},
     "output_type": "display_data"
    }
   ],
   "source": [
    "# find the 68% confidence intervals around the mean\n",
    "y1 <- lststats$mean + lststats$sd \n",
    "y2 <- lststats$mean - lststats$sd\n",
    "\n",
    "plot <- ggplot(lststats) +\n",
    "  # Data quality\n",
    "  geom_col(aes(y=scaleq(lststats$quality), x=date), fill= 'blue', alpha = 0.2) +\n",
    "  scale_y_continuous(limits = c(meanMin, meanMax), oob = rescale_none, sec.axis = sec_axis(~((. - meanMin)/(meanMax - meanMin))*100, name = \"% Good Pixels\")) +\n",
    "\n",
    "  # LST mean and sd\n",
    "  geom_ribbon(aes(ymin=y2, ymax=y1, x=date), fill = 'darkgray') + # draw the shaded area for 68% CI\n",
    "  geom_line(aes(y=mean, x=date), colour = '#2D708EFF') + # draw the line for the mean value  \n",
    "\n",
    "  labs(title = 'MOD11A2 Land Surface Temperature', subtitle = 'Subset Mean and 68% CI') +\n",
    "  ylab(' LST (K)') + # add a y-axis label\n",
    "  xlab(\"Date\") + # add a x-axis label\n",
    "  theme_bw() + # set the plot theme\n",
    "  theme(plot.title = element_text(lineheight=.8, face=\"bold\", size=20), \n",
    "        axis.title.x = element_text(face=\"bold\", size=20), \n",
    "        axis.title.y = element_text(face=\"bold\", size=20), \n",
    "        axis.text.x = element_text(size=16), \n",
    "        axis.text.y = element_text(size=16)) # set optional theme elements\n",
    "\n",
    "options(repr.plot.width = 10, repr.plot.height = 3)\n",
    "plot"
   ]
  }
 ],
 "metadata": {
  "kernelspec": {
   "display_name": "R",
   "language": "R",
   "name": "ir"
  },
  "language_info": {
   "codemirror_mode": "r",
   "file_extension": ".r",
   "mimetype": "text/x-r-source",
   "name": "R",
   "pygments_lexer": "r",
   "version": "3.4.3"
  }
 },
 "nbformat": 4,
 "nbformat_minor": 2
}
